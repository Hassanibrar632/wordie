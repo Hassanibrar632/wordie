{
  "nbformat": 4,
  "nbformat_minor": 0,
  "metadata": {
    "colab": {
      "provenance": []
    },
    "kernelspec": {
      "name": "python3",
      "display_name": "Python 3"
    },
    "language_info": {
      "name": "python"
    }
  },
  "cells": [
    {
      "cell_type": "code",
      "source": [
        "!pip install -q nltk gradio"
      ],
      "metadata": {
        "colab": {
          "base_uri": "https://localhost:8080/"
        },
        "id": "7P-LP5vficDO",
        "outputId": "f77f943c-5cd1-49dc-d416-429864c9953a"
      },
      "execution_count": 1,
      "outputs": [
        {
          "output_type": "stream",
          "name": "stdout",
          "text": [
            "\u001b[2K     \u001b[90m━━━━━━━━━━━━━━━━━━━━━━━━━━━━━━━━━━━━━━━━\u001b[0m \u001b[32m50.4/50.4 kB\u001b[0m \u001b[31m3.1 MB/s\u001b[0m eta \u001b[36m0:00:00\u001b[0m\n",
            "\u001b[2K   \u001b[90m━━━━━━━━━━━━━━━━━━━━━━━━━━━━━━━━━━━━━━━━\u001b[0m \u001b[32m18.1/18.1 MB\u001b[0m \u001b[31m56.3 MB/s\u001b[0m eta \u001b[36m0:00:00\u001b[0m\n",
            "\u001b[2K   \u001b[90m━━━━━━━━━━━━━━━━━━━━━━━━━━━━━━━━━━━━━━━━\u001b[0m \u001b[32m318.7/318.7 kB\u001b[0m \u001b[31m19.4 MB/s\u001b[0m eta \u001b[36m0:00:00\u001b[0m\n",
            "\u001b[2K   \u001b[90m━━━━━━━━━━━━━━━━━━━━━━━━━━━━━━━━━━━━━━━━\u001b[0m \u001b[32m94.6/94.6 kB\u001b[0m \u001b[31m6.2 MB/s\u001b[0m eta \u001b[36m0:00:00\u001b[0m\n",
            "\u001b[2K   \u001b[90m━━━━━━━━━━━━━━━━━━━━━━━━━━━━━━━━━━━━━━━━\u001b[0m \u001b[32m76.4/76.4 kB\u001b[0m \u001b[31m5.6 MB/s\u001b[0m eta \u001b[36m0:00:00\u001b[0m\n",
            "\u001b[2K   \u001b[90m━━━━━━━━━━━━━━━━━━━━━━━━━━━━━━━━━━━━━━━━\u001b[0m \u001b[32m77.9/77.9 kB\u001b[0m \u001b[31m5.9 MB/s\u001b[0m eta \u001b[36m0:00:00\u001b[0m\n",
            "\u001b[2K   \u001b[90m━━━━━━━━━━━━━━━━━━━━━━━━━━━━━━━━━━━━━━━━\u001b[0m \u001b[32m141.9/141.9 kB\u001b[0m \u001b[31m8.9 MB/s\u001b[0m eta \u001b[36m0:00:00\u001b[0m\n",
            "\u001b[2K   \u001b[90m━━━━━━━━━━━━━━━━━━━━━━━━━━━━━━━━━━━━━━━━\u001b[0m \u001b[32m10.3/10.3 MB\u001b[0m \u001b[31m91.9 MB/s\u001b[0m eta \u001b[36m0:00:00\u001b[0m\n",
            "\u001b[2K   \u001b[90m━━━━━━━━━━━━━━━━━━━━━━━━━━━━━━━━━━━━━━━━\u001b[0m \u001b[32m62.8/62.8 kB\u001b[0m \u001b[31m3.6 MB/s\u001b[0m eta \u001b[36m0:00:00\u001b[0m\n",
            "\u001b[2K   \u001b[90m━━━━━━━━━━━━━━━━━━━━━━━━━━━━━━━━━━━━━━━━\u001b[0m \u001b[32m58.3/58.3 kB\u001b[0m \u001b[31m3.8 MB/s\u001b[0m eta \u001b[36m0:00:00\u001b[0m\n",
            "\u001b[2K   \u001b[90m━━━━━━━━━━━━━━━━━━━━━━━━━━━━━━━━━━━━━━━━\u001b[0m \u001b[32m71.4/71.4 kB\u001b[0m \u001b[31m4.5 MB/s\u001b[0m eta \u001b[36m0:00:00\u001b[0m\n",
            "\u001b[2K   \u001b[90m━━━━━━━━━━━━━━━━━━━━━━━━━━━━━━━━━━━━━━━━\u001b[0m \u001b[32m130.2/130.2 kB\u001b[0m \u001b[31m9.4 MB/s\u001b[0m eta \u001b[36m0:00:00\u001b[0m\n",
            "\u001b[?25h"
          ]
        }
      ]
    },
    {
      "cell_type": "code",
      "source": [
        "from nltk.corpus import words\n",
        "import nltk\n",
        "\n",
        "nltk.download('words')\n",
        "class wordie:\n",
        "    def __init__(self):\n",
        "      self.setofwords = list(set([i.lower() for i in words.words() if len(i) == 5]))\n",
        "\n",
        "    def view_words(self):\n",
        "      return self.setofwords\n",
        "\n",
        "    def remove_letter(self, letters):\n",
        "      for letter in letters.lower():\n",
        "        self.setofwords = [i for i in self.setofwords if letter not in i]\n",
        "      return\n",
        "\n",
        "    def found_letter(self, letters):\n",
        "      for letter in letters.lower():\n",
        "        self.setofwords = [i for i in self.setofwords if letter in i]\n",
        "      return\n",
        "\n",
        "    def fix_pos(self, pair):\n",
        "      for letter, index in pair:\n",
        "        self.setofwords = [i for i in self.setofwords if letter == i[index]]\n",
        "      return\n",
        "\n",
        "    def reset(self):\n",
        "      self.setofwords = list(set([i.lower() for i in words.words() if len(i) == 5]))\n",
        "      return"
      ],
      "metadata": {
        "colab": {
          "base_uri": "https://localhost:8080/"
        },
        "id": "A4LKqT-aisSc",
        "outputId": "8d37b7a0-9455-4512-a36a-64400f5aee4b"
      },
      "execution_count": 8,
      "outputs": [
        {
          "output_type": "stream",
          "name": "stderr",
          "text": [
            "[nltk_data] Downloading package words to /root/nltk_data...\n",
            "[nltk_data]   Package words is already up-to-date!\n"
          ]
        }
      ]
    },
    {
      "cell_type": "code",
      "source": [
        "import gradio as gr\n",
        "\n",
        "gusser = wordie()\n",
        "\n",
        "# Define the processing function\n",
        "def process_input(l1, l2, l3, l4, l5, yellow, black):\n",
        "    gusser.reset()\n",
        "\n",
        "    word = [l1, l2, l3, l4, l5]\n",
        "    pair = []\n",
        "    for i, l in enumerate(word):\n",
        "        try:\n",
        "            int(l)\n",
        "        except:\n",
        "            pair.append([l.lower(), i])\n",
        "    gusser.fix_pos(pair)\n",
        "\n",
        "    gusser.found_letter(yellow)\n",
        "    gusser.remove_letter(black)\n",
        "\n",
        "    return \"\\n\".join(gusser.view_words())\n",
        "\n",
        "# Building the Gradio interface\n",
        "with gr.Blocks() as demo:\n",
        "    gr.Markdown(\"### Enter the letter at the correct position: \")\n",
        "    with gr.Row():\n",
        "      l1 = gr.Textbox(label=\"t1\", value=\"1\", max_lines=1)\n",
        "      l2 = gr.Textbox(label=\"t2\", value=\"2\", max_lines=1)\n",
        "      l3 = gr.Textbox(label=\"t3\", value=\"3\", max_lines=1)\n",
        "      l4 = gr.Textbox(label=\"t4\", value=\"4\", max_lines=1)\n",
        "      l5 = gr.Textbox(label=\"t5\", value=\"5\", max_lines=1)\n",
        "\n",
        "    with gr.Row():\n",
        "      yellow_input = gr.Textbox(label=\"Yellow\", value=\"\")\n",
        "      black_input = gr.Textbox(label=\"Black\", value=\"\")\n",
        "\n",
        "    with gr.Row():\n",
        "        output_box = gr.Textbox(label=\"Output\", placeholder=\"Processed output will be shown here\", interactive=False)\n",
        "        process_button = gr.Button(\"Process\")\n",
        "\n",
        "    # Link the process button to the processing function\n",
        "    process_button.click(\n",
        "        fn=process_input,\n",
        "        inputs=[l1, l2, l3, l4, l5, yellow_input, black_input],\n",
        "        outputs=[output_box]\n",
        "    )\n",
        "\n",
        "demo.launch()"
      ],
      "metadata": {
        "colab": {
          "base_uri": "https://localhost:8080/",
          "height": 646
        },
        "id": "T32pN8-sudFY",
        "outputId": "bdeb5172-f1f8-4878-f8a7-336cddcc3420"
      },
      "execution_count": 9,
      "outputs": [
        {
          "output_type": "stream",
          "name": "stdout",
          "text": [
            "Setting queue=True in a Colab notebook requires sharing enabled. Setting `share=True` (you can turn this off by setting `share=False` in `launch()` explicitly).\n",
            "\n",
            "Colab notebook detected. To show errors in colab notebook, set debug=True in launch()\n",
            "Running on public URL: https://74a1932bbe214af6c5.gradio.live\n",
            "\n",
            "This share link expires in 72 hours. For free permanent hosting and GPU upgrades, run `gradio deploy` from Terminal to deploy to Spaces (https://huggingface.co/spaces)\n"
          ]
        },
        {
          "output_type": "display_data",
          "data": {
            "text/plain": [
              "<IPython.core.display.HTML object>"
            ],
            "text/html": [
              "<div><iframe src=\"https://74a1932bbe214af6c5.gradio.live\" width=\"100%\" height=\"500\" allow=\"autoplay; camera; microphone; clipboard-read; clipboard-write;\" frameborder=\"0\" allowfullscreen></iframe></div>"
            ]
          },
          "metadata": {}
        },
        {
          "output_type": "execute_result",
          "data": {
            "text/plain": []
          },
          "metadata": {},
          "execution_count": 9
        }
      ]
    },
    {
      "cell_type": "code",
      "source": [
        "gusser.view_words()"
      ],
      "metadata": {
        "colab": {
          "base_uri": "https://localhost:8080/"
        },
        "id": "j3bUGJOu2kof",
        "outputId": "0dca992f-b8c1-48a9-cd42-50b4e5a800b8"
      },
      "execution_count": 7,
      "outputs": [
        {
          "output_type": "execute_result",
          "data": {
            "text/plain": [
              "[]"
            ]
          },
          "metadata": {},
          "execution_count": 7
        }
      ]
    },
    {
      "cell_type": "code",
      "source": [],
      "metadata": {
        "id": "2ZWe1GYAEtr2"
      },
      "execution_count": null,
      "outputs": []
    }
  ]
}